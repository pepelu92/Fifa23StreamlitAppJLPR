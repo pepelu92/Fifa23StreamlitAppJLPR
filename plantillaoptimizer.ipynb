{
 "cells": [
  {
   "cell_type": "code",
   "execution_count": 1,
   "metadata": {},
   "outputs": [],
   "source": [
    "import pandas as pd\n",
    "import numpy as np\n",
    "import math\n",
    "from ortools.linear_solver import pywraplp"
   ]
  },
  {
   "cell_type": "code",
   "execution_count": 2,
   "metadata": {},
   "outputs": [],
   "source": [
    "#--------DATAFRAME-----------\n",
    "df = pd.read_csv('Fifa23PlayersData.csv')\n",
    "df.drop(['Known As', 'On Loan'], axis=1, inplace = True)\n",
    "df['Type'] = pd.cut(df['Overall'], bins=[0, 64, 74, float('Inf')], labels=['Bronze', 'Silver', 'Gold'])\n",
    "df.drop('Positions Played', axis=1, inplace= True)\n",
    "df.rename(columns={'Best Position':'Position'}, inplace= True)\n",
    "df.rename(columns={'Full Name':'Name'}, inplace= True)\n",
    "df = df.drop_duplicates()"
   ]
  },
  {
   "cell_type": "code",
   "execution_count": 15,
   "metadata": {},
   "outputs": [],
   "source": [
    "#añadimos la posición y la edad a los nombres repetidos\n",
    "df['Uniques']=np.where(df['Name'].duplicated(keep=False), df['Name']+' '+df['Position'].astype(str) +' ' +df['Age'].astype(str),df['Name'])"
   ]
  },
  {
   "cell_type": "code",
   "execution_count": 16,
   "metadata": {},
   "outputs": [
    {
     "name": "stderr",
     "output_type": "stream",
     "text": [
      "C:\\Users\\jl_12\\AppData\\Local\\Temp\\ipykernel_10728\\2968509139.py:2: SettingWithCopyWarning: \n",
      "A value is trying to be set on a copy of a slice from a DataFrame\n",
      "\n",
      "See the caveats in the documentation: https://pandas.pydata.org/pandas-docs/stable/user_guide/indexing.html#returning-a-view-versus-a-copy\n",
      "  df['Uniques'][12164] = 'James Brown'\n"
     ]
    }
   ],
   "source": [
    "#cambiamos el último valor repetido manualmente\n",
    "df['Uniques'][12164] = 'James Brown'"
   ]
  },
  {
   "cell_type": "code",
   "execution_count": 3,
   "metadata": {},
   "outputs": [],
   "source": [
    "porteros = df[df['Position'] == 'GK']\n",
    "latizq = df[df['Position'].isin(('LB', 'LWB'))]\n",
    "latdrch = df[df['Position'].isin(('RB', 'RWB'))]\n",
    "centrales = df[df['Position'] == 'CB']\n",
    "mediocentros = df[df['Position'].isin(('CDM', 'CM', 'CAM'))]\n",
    "medioizq = df[df['Position'].isin(('LW', 'LM'))]\n",
    "mediodrch = df[df['Position'].isin(('RW', 'RM'))]\n",
    "delanteros = df[df['Position'].isin(('CF', 'ST'))]"
   ]
  },
  {
   "cell_type": "code",
   "execution_count": 4,
   "metadata": {},
   "outputs": [],
   "source": [
    "POR = porteros['Image Link'].to_numpy().tolist()\n",
    "LI = latizq['Image Link'].to_numpy().tolist()\n",
    "LD = latdrch['Image Link'].to_numpy().tolist()\n",
    "DFC1 = centrales['Image Link'].to_numpy().tolist()\n",
    "DFC2 = centrales['Image Link'].to_numpy().tolist()\n",
    "MC1 = mediocentros['Image Link'].to_numpy().tolist()\n",
    "MC2 = mediocentros['Image Link'].to_numpy().tolist()\n",
    "MI = medioizq['Image Link'].to_numpy().tolist()\n",
    "MD = mediodrch['Image Link'].to_numpy().tolist()\n",
    "DC1 = delanteros['Image Link'].to_numpy().tolist()\n",
    "DC2 = delanteros['Image Link'].to_numpy().tolist()"
   ]
  },
  {
   "cell_type": "code",
   "execution_count": 5,
   "metadata": {},
   "outputs": [],
   "source": [
    "from ortools.linear_solver import pywraplp\n",
    "from ortools.init import pywrapinit"
   ]
  },
  {
   "cell_type": "code",
   "execution_count": 6,
   "metadata": {},
   "outputs": [],
   "source": [
    "# Create the linear solver with the GLOP backend.\n",
    "solver = pywraplp.Solver.CreateSolver('GLOP')"
   ]
  },
  {
   "cell_type": "code",
   "execution_count": 7,
   "metadata": {},
   "outputs": [],
   "source": [
    "# Create the variables x and y.\n",
    "POR = solver.IntVar(0, solver.infinity(), 'POR')\n",
    "LI = solver.IntVar(0, solver.infinity(), 'LI')\n",
    "DFC1 = solver.IntVar(0, solver.infinity(), 'DFC1')\n",
    "DFC2 = solver.IntVar(0, solver.infinity(), 'DFC2')\n",
    "LD = solver.IntVar(0, solver.infinity(), 'LD')\n",
    "MI = solver.IntVar(0, solver.infinity(), 'MI')\n",
    "MC1 = solver.IntVar(0, solver.infinity(), 'MC1')\n",
    "MC2 = solver.IntVar(0, solver.infinity(), 'MC2')\n",
    "MD = solver.IntVar(0, solver.infinity(), 'MD')\n",
    "DC1 = solver.IntVar(0, solver.infinity(), 'DC1')\n",
    "DC2 = solver.IntVar(0, solver.infinity(), 'DC2')"
   ]
  },
  {
   "cell_type": "code",
   "execution_count": 8,
   "metadata": {},
   "outputs": [
    {
     "name": "stdout",
     "output_type": "stream",
     "text": [
      "Number of constraints = 1\n"
     ]
    }
   ],
   "source": [
    "# Create a linear constraint, 0 <= x + y <= 2.\n",
    "ct = solver.Constraint(0,1)\n",
    "ct.SetCoefficient(POR, 1)\n",
    "ct.SetCoefficient(LI, 1)\n",
    "ct.SetCoefficient(DFC1, 1)\n",
    "ct.SetCoefficient(DFC2, 1)\n",
    "ct.SetCoefficient(LD, 1)\n",
    "ct.SetCoefficient(MI, 1)\n",
    "ct.SetCoefficient(MC1, 1)\n",
    "ct.SetCoefficient(MC2, 1)\n",
    "ct.SetCoefficient(MD, 1)\n",
    "ct.SetCoefficient(DC1, 1)\n",
    "ct.SetCoefficient(DC2, 1)\n",
    "\n",
    "\n",
    "\n",
    "print('Number of constraints =', solver.NumConstraints())"
   ]
  },
  {
   "cell_type": "code",
   "execution_count": 9,
   "metadata": {},
   "outputs": [],
   "source": [
    "# Create the objective function,  x + y.\n",
    "objective = solver.Objective()\n",
    "objective.SetCoefficient(POR, 1)\n",
    "objective.SetCoefficient(LI, 1)\n",
    "objective.SetCoefficient(DFC1, 1)\n",
    "objective.SetCoefficient(DFC2, 1)\n",
    "objective.SetCoefficient(LD, 1)\n",
    "objective.SetCoefficient(MI, 1)\n",
    "objective.SetCoefficient(MC1, 1)\n",
    "objective.SetCoefficient(MC2, 1)\n",
    "objective.SetCoefficient(MD, 1)\n",
    "objective.SetCoefficient(DC1, 1)\n",
    "objective.SetCoefficient(DC2, 1)\n",
    "objective.SetMaximization()"
   ]
  },
  {
   "cell_type": "code",
   "execution_count": 10,
   "metadata": {},
   "outputs": [
    {
     "name": "stdout",
     "output_type": "stream",
     "text": [
      "Solution:\n",
      "Objective value = 1.0\n",
      "POR = 0.0\n",
      "LI = 0.0\n",
      "DFC1 = 0.0\n",
      "DFC2 = 0.0\n",
      "LD = 0.0\n",
      "MI = 0.0\n",
      "MC1 = 0.0\n",
      "MC2 = 0.0\n",
      "MD = 0.0\n",
      "DC1 = 0.0\n",
      "DC2 = 1.0\n"
     ]
    }
   ],
   "source": [
    "solver.Solve()\n",
    "print('Solution:')\n",
    "print('Objective value =', objective.Value())\n",
    "print('POR =', POR.solution_value())\n",
    "print('LI =', LI.solution_value())\n",
    "print('DFC1 =', DFC1.solution_value())\n",
    "print('DFC2 =', DFC2.solution_value())\n",
    "print('LD =', LD.solution_value())\n",
    "print('MI =', MI.solution_value())\n",
    "print('MC1 =', MC1.solution_value())\n",
    "print('MC2 =', MC2.solution_value())\n",
    "print('MD =', MD.solution_value())\n",
    "print('DC1 =', DC1.solution_value())\n",
    "print('DC2 =', DC2.solution_value())"
   ]
  },
  {
   "cell_type": "markdown",
   "metadata": {},
   "source": [
    "habría que pasar DATA PARA CADA UNO"
   ]
  },
  {
   "cell_type": "code",
   "execution_count": 13,
   "metadata": {},
   "outputs": [],
   "source": [
    "# Datos en forma matricial\n",
    "JUGADORES = df['Image Link'].to_numpy().tolist()\n",
    "\n",
    "DATA = df[['Value(in Euro)', 'Overall', 'Potential']].to_numpy().tolist()\n",
    "\n",
    "RESOURCES = [50000, 80 * 11, 85 * 11]"
   ]
  },
  {
   "cell_type": "code",
   "execution_count": 15,
   "metadata": {},
   "outputs": [],
   "source": [
    "presupuesto = 5000"
   ]
  },
  {
   "cell_type": "code",
   "execution_count": 29,
   "metadata": {},
   "outputs": [],
   "source": [
    "def solve_army(JUGADORES, DATA, RESOURCES):\n",
    "  # Instanciamos solver\n",
    "  solver = pywraplp.Solver('Minimize resource consumption', pywraplp.Solver.CBC_MIXED_INTEGER_PROGRAMMING)\n",
    "\n",
    "  # Creamos las variables a optimizar\n",
    "  jugadores = [solver.IntVar(0, solver.infinity(), jugador) for jugador in JUGADORES]\n",
    "  \n",
    "  # Restricciones sobre la fuerza mínima de las tropas\n",
    "  for r, _ in enumerate(RESOURCES):\n",
    "    solver.Add(sum((10 * DATA[u][-2] + DATA[u][-1]) * jugadores[u] for u, _ in enumerate(jugadores)) >= 10000)\n",
    "\n",
    "  # Restricciones sobre los recursos máximos\n",
    "  for r, _ in enumerate(RESOURCES):\n",
    "    solver.Add(sum(DATA[u][r] * jugadores[u] for u, _ in enumerate(jugadores)) <= RESOURCES[r])\n",
    "\n",
    "  # Función objetivo (minimizar recursos consumidos)\n",
    "  solver.Minimize(sum((DATA[u][0] + DATA[u][1] + DATA[u][2]) * jugadores[u] for u, _ in enumerate(jugadores)))\n",
    "\n",
    "  # Resolvemos el problema\n",
    "  status = solver.Solve()\n",
    "\n",
    "  if status == pywraplp.Solver.OPTIMAL:\n",
    "    print('================= Solución =================')\n",
    "    print(f'Resuelto en {solver.wall_time():.2f} milisegundos con {solver.iterations()} iteraciones')\n",
    "    print()\n",
    "\n",
    "    power = sum((10 * DATA[u][-2] + DATA[u][-1]) * jugadores[u].solution_value() for u, _ in enumerate(jugadores))\n",
    "    print(f'Valor óptimo = {solver.Objective().Value()} 🌾🪵🪙recursos')\n",
    "    print(f'Fuerza = 💪{power}')\n",
    "    print('Tropas:')\n",
    "    for u, _ in enumerate(jugadores):\n",
    "      print(f' - {jugadores[u].name()} = {jugadores[u].solution_value()}')\n",
    "    print()\n",
    "\n",
    "    food = sum((DATA[u][0]) * jugadores[u].solution_value() for u, _ in enumerate(jugadores))\n",
    "    wood = sum((DATA[u][1]) * jugadores[u].solution_value() for u, _ in enumerate(jugadores))\n",
    "    gold = sum((DATA[u][2]) * jugadores[u].solution_value() for u, _ in enumerate(jugadores))\n",
    "    print('Recursos:')\n",
    "    print(f' - 🌾Comida = {food}')\n",
    "    print(f' - 🪵Madera = {wood}')\n",
    "    print(f' - 🪙Oro = {gold}')\n",
    "  else:\n",
    "      print('No se encontró una solución óptima.')"
   ]
  },
  {
   "cell_type": "code",
   "execution_count": 30,
   "metadata": {},
   "outputs": [
    {
     "name": "stdout",
     "output_type": "stream",
     "text": [
      "No se encontró una solución óptima.\n"
     ]
    }
   ],
   "source": [
    "solve_army(JUGADORES, DATA, RESOURCES)"
   ]
  },
  {
   "cell_type": "code",
   "execution_count": 125,
   "metadata": {},
   "outputs": [],
   "source": [
    "df['Uniques']=np.where(df['Name'].duplicated(keep=False), df['Name']+' '+df['Position'].astype(str) +' ' +df['Age'].astype(str),df['Name'])"
   ]
  },
  {
   "cell_type": "code",
   "execution_count": 128,
   "metadata": {},
   "outputs": [
    {
     "data": {
      "text/plain": [
       "Lionel Messi       1\n",
       "Matteo Anzolin     1\n",
       "Arkadiusz Pyrka    1\n",
       "Tobe Leysen        1\n",
       "Sebastian Ring     1\n",
       "                  ..\n",
       "Alexander Prass    1\n",
       "Mehdi Zeffane      1\n",
       "Darwin Cerén       1\n",
       "Nicolás Oroz       1\n",
       "Nabin Rabha        1\n",
       "Name: Uniques, Length: 18420, dtype: int64"
      ]
     },
     "execution_count": 128,
     "metadata": {},
     "output_type": "execute_result"
    }
   ],
   "source": [
    "df['Uniques'].value_counts()"
   ]
  },
  {
   "cell_type": "code",
   "execution_count": 127,
   "metadata": {},
   "outputs": [
    {
     "name": "stderr",
     "output_type": "stream",
     "text": [
      "C:\\Users\\jl_12\\AppData\\Local\\Temp\\ipykernel_12568\\556856305.py:1: SettingWithCopyWarning: \n",
      "A value is trying to be set on a copy of a slice from a DataFrame\n",
      "\n",
      "See the caveats in the documentation: https://pandas.pydata.org/pandas-docs/stable/user_guide/indexing.html#returning-a-view-versus-a-copy\n",
      "  df['Uniques'][12164] = 'James Brown'\n"
     ]
    }
   ],
   "source": [
    "df['Uniques'][12164] = 'James Brown'"
   ]
  },
  {
   "cell_type": "code",
   "execution_count": 123,
   "metadata": {},
   "outputs": [
    {
     "data": {
      "text/html": [
       "<div>\n",
       "<style scoped>\n",
       "    .dataframe tbody tr th:only-of-type {\n",
       "        vertical-align: middle;\n",
       "    }\n",
       "\n",
       "    .dataframe tbody tr th {\n",
       "        vertical-align: top;\n",
       "    }\n",
       "\n",
       "    .dataframe thead th {\n",
       "        text-align: right;\n",
       "    }\n",
       "</style>\n",
       "<table border=\"1\" class=\"dataframe\">\n",
       "  <thead>\n",
       "    <tr style=\"text-align: right;\">\n",
       "      <th></th>\n",
       "      <th>Name</th>\n",
       "      <th>Overall</th>\n",
       "      <th>Potential</th>\n",
       "      <th>Value(in Euro)</th>\n",
       "      <th>Position</th>\n",
       "      <th>Nationality</th>\n",
       "      <th>Image Link</th>\n",
       "      <th>Age</th>\n",
       "      <th>Height(in cm)</th>\n",
       "      <th>Weight(in kg)</th>\n",
       "      <th>...</th>\n",
       "      <th>RM Rating</th>\n",
       "      <th>LWB Rating</th>\n",
       "      <th>CDM Rating</th>\n",
       "      <th>RWB Rating</th>\n",
       "      <th>LB Rating</th>\n",
       "      <th>CB Rating</th>\n",
       "      <th>RB Rating</th>\n",
       "      <th>GK Rating</th>\n",
       "      <th>Type</th>\n",
       "      <th>Unique Name</th>\n",
       "    </tr>\n",
       "  </thead>\n",
       "  <tbody>\n",
       "    <tr>\n",
       "      <th>12164</th>\n",
       "      <td>James Brown</td>\n",
       "      <td>63</td>\n",
       "      <td>68</td>\n",
       "      <td>675000</td>\n",
       "      <td>RWB</td>\n",
       "      <td>Malta</td>\n",
       "      <td>https://cdn.sofifa.net/players/236/027/23_60.png</td>\n",
       "      <td>24</td>\n",
       "      <td>185</td>\n",
       "      <td>79</td>\n",
       "      <td>...</td>\n",
       "      <td>57</td>\n",
       "      <td>63</td>\n",
       "      <td>61</td>\n",
       "      <td>63</td>\n",
       "      <td>64</td>\n",
       "      <td>64</td>\n",
       "      <td>64</td>\n",
       "      <td>19</td>\n",
       "      <td>Bronze</td>\n",
       "      <td>James Brown</td>\n",
       "    </tr>\n",
       "    <tr>\n",
       "      <th>12543</th>\n",
       "      <td>James Brown</td>\n",
       "      <td>63</td>\n",
       "      <td>68</td>\n",
       "      <td>675000</td>\n",
       "      <td>RWB</td>\n",
       "      <td>Republic of Ireland</td>\n",
       "      <td>https://cdn.sofifa.net/players/261/277/23_60.png</td>\n",
       "      <td>24</td>\n",
       "      <td>177</td>\n",
       "      <td>77</td>\n",
       "      <td>...</td>\n",
       "      <td>61</td>\n",
       "      <td>63</td>\n",
       "      <td>61</td>\n",
       "      <td>63</td>\n",
       "      <td>63</td>\n",
       "      <td>62</td>\n",
       "      <td>63</td>\n",
       "      <td>19</td>\n",
       "      <td>Bronze</td>\n",
       "      <td>James Brown RWB 24</td>\n",
       "    </tr>\n",
       "  </tbody>\n",
       "</table>\n",
       "<p>2 rows × 88 columns</p>\n",
       "</div>"
      ],
      "text/plain": [
       "              Name  Overall  Potential  Value(in Euro) Position  \\\n",
       "12164  James Brown       63         68          675000      RWB   \n",
       "12543  James Brown       63         68          675000      RWB   \n",
       "\n",
       "               Nationality                                        Image Link  \\\n",
       "12164                Malta  https://cdn.sofifa.net/players/236/027/23_60.png   \n",
       "12543  Republic of Ireland  https://cdn.sofifa.net/players/261/277/23_60.png   \n",
       "\n",
       "       Age  Height(in cm)  Weight(in kg)  ...  RM Rating  LWB Rating  \\\n",
       "12164   24            185             79  ...         57          63   \n",
       "12543   24            177             77  ...         61          63   \n",
       "\n",
       "      CDM Rating  RWB Rating  LB Rating CB Rating RB Rating GK Rating    Type  \\\n",
       "12164         61          63         64        64        64        19  Bronze   \n",
       "12543         61          63         63        62        63        19  Bronze   \n",
       "\n",
       "              Unique Name  \n",
       "12164         James Brown  \n",
       "12543  James Brown RWB 24  \n",
       "\n",
       "[2 rows x 88 columns]"
      ]
     },
     "execution_count": 123,
     "metadata": {},
     "output_type": "execute_result"
    }
   ],
   "source": [
    "# BUSCAR UN JUGADOR\n",
    "\n",
    "df[df['Uniques'].str.contains('James Brown', case=False)]"
   ]
  }
 ],
 "metadata": {
  "kernelspec": {
   "display_name": "Python 3.10.8 ('venv_analytics': venv)",
   "language": "python",
   "name": "python3"
  },
  "language_info": {
   "codemirror_mode": {
    "name": "ipython",
    "version": 3
   },
   "file_extension": ".py",
   "mimetype": "text/x-python",
   "name": "python",
   "nbconvert_exporter": "python",
   "pygments_lexer": "ipython3",
   "version": "3.10.8"
  },
  "orig_nbformat": 4,
  "vscode": {
   "interpreter": {
    "hash": "b0b1d0f398dae0726693511ee5888fc6ba5d61d4bb28ddf31696a4c432c6df56"
   }
  }
 },
 "nbformat": 4,
 "nbformat_minor": 2
}
